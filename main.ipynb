{
 "cells": [
  {
   "cell_type": "code",
   "execution_count": null,
   "metadata": {},
   "outputs": [],
   "source": [
    "#libraries \n",
    "import importlib\n",
    "from youtube_api.ytchannel import Ytchannel\n",
    "from youtube_api.ytvideo import Ytvideo\n",
    "from nlp.nlp_ner import NER\n",
    "from etl.etlner import EtlNER\n",
    "from youtube_api.transcribe import Transcribe\n",
    "from nlp.nlp_sa import SA\n",
    "from etl.etlsa import EtlSA\n",
    "from etl.etldf import EtlDF\n",
    "import pandas as pd\n",
    "from etl.dbmanager import DBmanager\n",
    "from sqlalchemy import create_engine\n",
    "from nlp.nlp_summarisation import Summariser\n",
    "\n"
   ]
  },
  {
   "cell_type": "code",
   "execution_count": null,
   "metadata": {},
   "outputs": [],
   "source": [
    "\n",
    "# initialisation\n",
    "\n",
    "#initialising\n",
    "channel_manage = Ytchannel()\n",
    "video_manage = Ytvideo()\n",
    "nlp_ner = NER()\n",
    "nlp_sa = SA()\n",
    "etlner_manage = EtlNER()\n",
    "scribe_manage = Transcribe()\n",
    "etlsa_manage = EtlSA()\n",
    "etldf = EtlDF()\n",
    "dbm = DBmanager()\n",
    "sums = Summariser()\n",
    "\n",
    "id = 'UCVjlpEjEY9GpksqbEesJnNA'"
   ]
  },
  {
   "cell_type": "code",
   "execution_count": null,
   "metadata": {},
   "outputs": [],
   "source": [
    "\"\"\" testing 1 video \"\"\"\n",
    "# meta\n",
    "location = channel_manage.get_videos(id)\n",
    "meta = video_manage.export_info(location)\n",
    "\n",
    "\n",
    "#transcribe\n",
    "captions = scribe_manage.get_captions(meta,1)\n",
    "\n",
    "# summarisation\n",
    "sum_data = sums.summarise(captions,1)\n",
    "\n",
    "#sa\n",
    "sa_raw = nlp_sa.sa(captions,1)\n",
    "sa_data = etlsa_manage.direct_etl(sa_raw)\n",
    "\n",
    "#ner\n",
    "ner_raw = nlp_ner.ner(captions,1)\n",
    "ner_data = etlner_manage.direct_etl(ner_raw)\n"
   ]
  },
  {
   "cell_type": "code",
   "execution_count": null,
   "metadata": {},
   "outputs": [],
   "source": [
    "# convert to dataframe \n",
    "mdf = etldf.meta_dataframe(meta)\n",
    "sadf = etldf.sa_dataframe(sa_data)\n",
    "nerdf = etldf.ner_dataframe(ner_data)\n",
    "wdf = etldf.words_dataframe(captions,sum_data)"
   ]
  },
  {
   "cell_type": "code",
   "execution_count": null,
   "metadata": {},
   "outputs": [],
   "source": [
    "# upload\n",
    "dbm.upload_df(mdf,'channel_data')\n",
    "dbm.upload_df(sadf,'sa_data')\n",
    "dbm.upload_df(wdf,'words_data')\n",
    "dbm.upload_nerdf(nerdf)"
   ]
  },
  {
   "cell_type": "code",
   "execution_count": null,
   "metadata": {},
   "outputs": [],
   "source": []
  }
 ],
 "metadata": {
  "kernelspec": {
   "display_name": "project_cv_1",
   "language": "python",
   "name": "python3"
  },
  "language_info": {
   "codemirror_mode": {
    "name": "ipython",
    "version": 3
   },
   "file_extension": ".py",
   "mimetype": "text/x-python",
   "name": "python",
   "nbconvert_exporter": "python",
   "pygments_lexer": "ipython3",
   "version": "3.11.4"
  },
  "orig_nbformat": 4
 },
 "nbformat": 4,
 "nbformat_minor": 2
}
